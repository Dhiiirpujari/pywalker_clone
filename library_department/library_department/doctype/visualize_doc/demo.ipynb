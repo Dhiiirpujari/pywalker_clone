{
 "cells": [
  {
   "cell_type": "code",
   "execution_count": 1,
   "metadata": {},
   "outputs": [],
   "source": [
    "import pandas as pd\n",
    "import pygwalker as pyg"
   ]
  },
  {
   "cell_type": "code",
   "execution_count": 2,
   "metadata": {},
   "outputs": [
    {
     "name": "stdout",
     "output_type": "stream",
     "text": [
      "     name  surname  age child_name relation\n",
      "0   Niraj    Patil   25       Maya   sister\n",
      "1   Niraj    Patil   25       Vini  pet dog\n",
      "2   Niraj    Patil   25       Asha   Mother\n",
      "3   Niraj    Patil   25      Vikas   father\n",
      "4   Bheem    Chota   52     Chutki   sister\n",
      "5   Bheem    Chota   52       raju   cousin\n",
      "6   Bheem    Chota   52      akash  brother\n",
      "7    Raju  Chintue   45       Alex      son\n",
      "8    Raju  Chintue   45       Tony  brother\n",
      "9   Sagar  Annaaaa   15     Rakesh  Brother\n",
      "10     ac    acssf   33        asc     sadc\n"
     ]
    }
   ],
   "source": [
    "df = pd.read_csv('/home/dhiraj/csv_files/test.csv')\n",
    "print(df)\n"
   ]
  },
  {
   "cell_type": "code",
   "execution_count": 3,
   "metadata": {},
   "outputs": [
    {
     "data": {
      "application/vnd.jupyter.widget-view+json": {
       "model_id": "933bfe7312964f3089928cb481304095",
       "version_major": 2,
       "version_minor": 0
      },
      "text/plain": [
       "Box(children=(HTML(value='<div id=\"ifr-pyg-0\" style=\"height: auto\">\\n    <head>\\n        <meta http-equiv=\"Con…"
      ]
     },
     "metadata": {},
     "output_type": "display_data"
    },
    {
     "data": {
      "text/html": [],
      "text/plain": [
       "<IPython.core.display.HTML object>"
      ]
     },
     "metadata": {},
     "output_type": "display_data"
    },
    {
     "data": {
      "text/plain": [
       "<pygwalker.api.pygwalker.PygWalker at 0x7f5b1c5ac430>"
      ]
     },
     "execution_count": 3,
     "metadata": {},
     "output_type": "execute_result"
    }
   ],
   "source": [
    "# walker = pyg.walk(df)\n",
    "pyg.walk(df,hideDataSourceConfig=True,vegaTheme='g2')"
   ]
  }
 ],
 "metadata": {
  "kernelspec": {
   "display_name": "env",
   "language": "python",
   "name": "python3"
  },
  "language_info": {
   "codemirror_mode": {
    "name": "ipython",
    "version": 3
   },
   "file_extension": ".py",
   "mimetype": "text/x-python",
   "name": "python",
   "nbconvert_exporter": "python",
   "pygments_lexer": "ipython3",
   "version": "3.10.12"
  }
 },
 "nbformat": 4,
 "nbformat_minor": 2
}
